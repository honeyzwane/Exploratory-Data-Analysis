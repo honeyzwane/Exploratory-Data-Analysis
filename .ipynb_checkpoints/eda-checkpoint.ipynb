{
 "cells": [
  {
   "cell_type": "markdown",
   "id": "debfe94d",
   "metadata": {},
   "source": [
    "## EDA model explaination\n",
    "\n",
    "This Jupyter notebook is to explain how the Module 'EDA' works.\n",
    "The EDA function below only perfoms basic EDA. Generally it should work well but one must consider their individual dataset. What this function does is:\n",
    "\n",
    "- Check for missing values: This involves finding columns that contain null or NaN values, which can indicate missing or incomplete data.\n",
    "- Check for outliers: Outliers are data points that are significantly different from the majority of the data. Outliers can have a significant impact on the results of an analysis, so it is important to identify and understand them. This code uses the interquartile range (IQR) to identify outliers that are more than 1.5 times the IQR above or below the first or third quartiles, respectively.\n",
    "- Check data types: This involves finding the data type of each column, which can be useful for ensuring that the data is in the correct format for a particular analysis.\n",
    "- Check value counts: This involves counting the number of occurrences of each unique value in a column. This can be useful for identifying patterns in categorical data.\n",
    "- Check correlations: This involves calculating the correlation between pairs of columns, which can give insight into the strength and direction of the relationship between the variables.\n",
    "-Check for skewness: This involves calculating the skewness of the distribution of each column, which can give insight into the symmetry of the data. Positive skewness indicates a distribution with a longer tail on the right side, while negative skewness indicates a distribution with a longer tail on the left side.\n"
   ]
  },
  {
   "cell_type": "code",
   "execution_count": 2,
   "id": "23f4c9ef",
   "metadata": {},
   "outputs": [],
   "source": [
    "#A simple code to analyse the dataset\n",
    "\n",
    "import pandas as pd\n",
    "import warnings\n",
    "warnings.filterwarnings('ignore')\n",
    "import matplotlib.pyplot as plt\n",
    "\n",
    "def EDA(data):\n",
    "    \"\"\"Perform exploratory data analysis on a given dataset.\n",
    "    Args:\n",
    "      data (pandas.DataFrame): The dataset to analyze.\n",
    "    \"\"\"\n",
    "    from IPython.display import display\n",
    "    display(data.head())\n",
    "     \n",
    "    # Print the shape of the dataset\n",
    "    print(f\"Number of rows: {data.shape[0]}\")\n",
    "    print(f\"Number of columns: {data.shape[1]}\")   \n",
    "\n",
    "    # Check for missing values\n",
    "    if data.isnull().values.any():\n",
    "        # Find the number of missing values for each column\n",
    "        missing_counts = data.isnull().sum()\n",
    "        # Calculate the percentage of missing values for each column\n",
    "        missing_percentages = 100 * missing_counts / len(data)\n",
    "        # Select only the columns with missing values\n",
    "        missing_columns = missing_percentages[missing_percentages > 0]\n",
    "        print(f\"Percentage of missing values in each column:\")\n",
    "        print(missing_columns)\n",
    "    else:\n",
    "        print(\"No missing values found\")\n",
    "\n",
    "    # Check for duplicated rows\n",
    "    duplicates = data[data.duplicated()]\n",
    "    if duplicates.empty:\n",
    "        print(\"No duplicated rows found\")\n",
    "    else:\n",
    "        duplicate_count = len(duplicates)\n",
    "        total_count = len(data)\n",
    "        print(f\"{duplicate_count} out of {total_count} rows are duplicated ({100 * duplicate_count / total_count:.2f}%)\")\n",
    "\n",
    "    # Check for outliers\n",
    "    q1 = data.quantile(0.25)\n",
    "    q3 = data.quantile(0.75)\n",
    "    iqr = q3 - q1\n",
    "    lower_bound = q1 - (1.5 * iqr)\n",
    "    upper_bound = q3 + (1.5 * iqr)\n",
    "    outliers = ((data < lower_bound) | (data > upper_bound)).sum()\n",
    "    if outliers.sum() == 0:\n",
    "        print(\"No outliers found\")\n",
    "    else:\n",
    "        print(f\"Number of outliers per column:\")\n",
    "        print(outliers)\n",
    "    \n",
    "    # Check data types\n",
    "    data_types = data.dtypes\n",
    "    print(f\"Data types: {data_types}\")\n",
    "\n",
    "    # Check correlations\n",
    "    correlations = data.corr()\n",
    "    print(\"Correlation table:\")\n",
    "    print(correlations)"
   ]
  },
  {
   "cell_type": "markdown",
   "id": "5f8773e7",
   "metadata": {},
   "source": [
    "## Things to note.\n",
    "\n",
    "- if mising values are found, the code will output the position of missing values.\n",
    "- If any outliers are found, the code will output the position of the outliers.\n",
    "- For the value count, it serves as a way to check for consistency in categorical data. Main focus here was columns which relate to Gender with variations of Male and Female codes included and also columns which have Yes or No information."
   ]
  },
  {
   "cell_type": "markdown",
   "id": "b1fe7c8b",
   "metadata": {},
   "source": [
    "## How to use the function?\n",
    "\n",
    "To use the EDA function, you can simply use the 'import' statement to import the eda module and then call the EDA function like this:"
   ]
  },
  {
   "cell_type": "code",
   "execution_count": null,
   "id": "4e901f25",
   "metadata": {},
   "outputs": [],
   "source": [
    "import eda\n",
    "# Load data\n",
    "data = pd.read_csv('data.csv')\n",
    "# Run EDA\n",
    "eda.EDA(data)"
   ]
  }
 ],
 "metadata": {
  "kernelspec": {
   "display_name": "Python 3 (ipykernel)",
   "language": "python",
   "name": "python3"
  },
  "language_info": {
   "codemirror_mode": {
    "name": "ipython",
    "version": 3
   },
   "file_extension": ".py",
   "mimetype": "text/x-python",
   "name": "python",
   "nbconvert_exporter": "python",
   "pygments_lexer": "ipython3",
   "version": "3.9.12"
  }
 },
 "nbformat": 4,
 "nbformat_minor": 5
}
